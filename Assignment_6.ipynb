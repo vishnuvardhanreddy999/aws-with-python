{
  "nbformat": 4,
  "nbformat_minor": 0,
  "metadata": {
    "colab": {
      "provenance": [],
      "authorship_tag": "ABX9TyNNMObIkiGtvZovCRJ2ZUnQ",
      "include_colab_link": true
    },
    "kernelspec": {
      "name": "python3",
      "display_name": "Python 3"
    },
    "language_info": {
      "name": "python"
    }
  },
  "cells": [
    {
      "cell_type": "markdown",
      "metadata": {
        "id": "view-in-github",
        "colab_type": "text"
      },
      "source": [
        "<a href=\"https://colab.research.google.com/github/Deepika441/Assignments/blob/main/Assignment_6.ipynb\" target=\"_parent\"><img src=\"https://colab.research.google.com/assets/colab-badge.svg\" alt=\"Open In Colab\"/></a>"
      ]
    },
    {
      "cell_type": "code",
      "source": [
        "def cow_bull(secret, guess):\n",
        "    cow = sum(s == g for s, g in zip(secret, guess))\n",
        "    bull = sum(g in secret for g in guess) - cow\n",
        "    return cow, bull\n",
        "\n",
        "# Example usage\n",
        "secret = \"hello\"\n",
        "guess = \"hallo\"\n",
        "print(cow_bull(secret, guess))"
      ],
      "metadata": {
        "colab": {
          "base_uri": "https://localhost:8080/"
        },
        "id": "Yre854thFE5N",
        "outputId": "59ebdad5-58e5-4524-cadd-4a3ddd84259d"
      },
      "execution_count": 10,
      "outputs": [
        {
          "output_type": "stream",
          "name": "stdout",
          "text": [
            "(4, 0)\n"
          ]
        }
      ]
    },
    {
      "cell_type": "code",
      "source": [
        "def is_palindrome(s):\n",
        "    return s == s[::-1]\n",
        "\n",
        "# Example usage\n",
        "print(is_palindrome(\"radar\"))\n",
        "print(is_palindrome(\"hello\"))"
      ],
      "metadata": {
        "colab": {
          "base_uri": "https://localhost:8080/"
        },
        "id": "KnkYEf_aFHY9",
        "outputId": "9bd9caea-1483-4a38-a3d6-c64e7e1ecc2e"
      },
      "execution_count": 11,
      "outputs": [
        {
          "output_type": "stream",
          "name": "stdout",
          "text": [
            "True\n",
            "False\n"
          ]
        }
      ]
    },
    {
      "cell_type": "code",
      "source": [
        "def fibonacci(n):\n",
        "    fibo = [0, 1]\n",
        "    while len(fibo) < n:\n",
        "        fibo.append(fibo[-1] + fibo[-2])\n",
        "    return fibo[:n]\n",
        "\n",
        "# Example usage\n",
        "print(fibonacci(10))"
      ],
      "metadata": {
        "colab": {
          "base_uri": "https://localhost:8080/"
        },
        "id": "LMkPdGO2FPLR",
        "outputId": "0f5cd3a1-9b4f-41b0-be52-69568129d803"
      },
      "execution_count": 12,
      "outputs": [
        {
          "output_type": "stream",
          "name": "stdout",
          "text": [
            "[0, 1, 1, 2, 3, 5, 8, 13, 21, 34]\n"
          ]
        }
      ]
    },
    {
      "cell_type": "code",
      "source": [
        "def my_range(start, stop=None, step=1):\n",
        "    if stop is None:\n",
        "        stop = start\n",
        "        start = 0\n",
        "    return list(range(start, stop, step))\n",
        "\n",
        "# Example usage\n",
        "print(my_range(5))\n",
        "print(my_range(2, 8, 2))"
      ],
      "metadata": {
        "colab": {
          "base_uri": "https://localhost:8080/"
        },
        "id": "fPzqYMO8FTrY",
        "outputId": "a663beb4-93cc-4416-db44-ff5637fcb821"
      },
      "execution_count": 13,
      "outputs": [
        {
          "output_type": "stream",
          "name": "stdout",
          "text": [
            "[0, 1, 2, 3, 4]\n",
            "[2, 4, 6]\n"
          ]
        }
      ]
    }
  ]
}